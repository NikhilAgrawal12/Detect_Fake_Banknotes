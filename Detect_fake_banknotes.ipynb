{
 "cells": [
  {
   "cell_type": "code",
   "execution_count": 1,
   "id": "a83b4b8a-1d86-42fd-82cf-0e700d39fc23",
   "metadata": {},
   "outputs": [],
   "source": [
    "import pandas as pd\n",
    "from sklearn.model_selection import train_test_split\n",
    "import seaborn as sns\n",
    "import matplotlib.pyplot as plt"
   ]
  },
  {
   "cell_type": "code",
   "execution_count": 2,
   "id": "c6b22659-205f-42bf-97a3-2343ccfbe2b6",
   "metadata": {},
   "outputs": [],
   "source": [
    "df= pd.read_csv(\"data_banknote_authentication.csv\")"
   ]
  },
  {
   "cell_type": "code",
   "execution_count": 3,
   "id": "197c76a7-43ac-40d7-adfd-49766a3fbdfc",
   "metadata": {},
   "outputs": [
    {
     "data": {
      "text/html": [
       "<div>\n",
       "<style scoped>\n",
       "    .dataframe tbody tr th:only-of-type {\n",
       "        vertical-align: middle;\n",
       "    }\n",
       "\n",
       "    .dataframe tbody tr th {\n",
       "        vertical-align: top;\n",
       "    }\n",
       "\n",
       "    .dataframe thead th {\n",
       "        text-align: right;\n",
       "    }\n",
       "</style>\n",
       "<table border=\"1\" class=\"dataframe\">\n",
       "  <thead>\n",
       "    <tr style=\"text-align: right;\">\n",
       "      <th></th>\n",
       "      <th>variance</th>\n",
       "      <th>skewness</th>\n",
       "      <th>curtosis</th>\n",
       "      <th>entropy</th>\n",
       "      <th>class</th>\n",
       "    </tr>\n",
       "  </thead>\n",
       "  <tbody>\n",
       "    <tr>\n",
       "      <th>0</th>\n",
       "      <td>3.62160</td>\n",
       "      <td>8.66610</td>\n",
       "      <td>-2.8073</td>\n",
       "      <td>-0.44699</td>\n",
       "      <td>0</td>\n",
       "    </tr>\n",
       "    <tr>\n",
       "      <th>1</th>\n",
       "      <td>4.54590</td>\n",
       "      <td>8.16740</td>\n",
       "      <td>-2.4586</td>\n",
       "      <td>-1.46210</td>\n",
       "      <td>0</td>\n",
       "    </tr>\n",
       "    <tr>\n",
       "      <th>2</th>\n",
       "      <td>3.86600</td>\n",
       "      <td>-2.63830</td>\n",
       "      <td>1.9242</td>\n",
       "      <td>0.10645</td>\n",
       "      <td>0</td>\n",
       "    </tr>\n",
       "    <tr>\n",
       "      <th>3</th>\n",
       "      <td>3.45660</td>\n",
       "      <td>9.52280</td>\n",
       "      <td>-4.0112</td>\n",
       "      <td>-3.59440</td>\n",
       "      <td>0</td>\n",
       "    </tr>\n",
       "    <tr>\n",
       "      <th>4</th>\n",
       "      <td>0.32924</td>\n",
       "      <td>-4.45520</td>\n",
       "      <td>4.5718</td>\n",
       "      <td>-0.98880</td>\n",
       "      <td>0</td>\n",
       "    </tr>\n",
       "    <tr>\n",
       "      <th>...</th>\n",
       "      <td>...</td>\n",
       "      <td>...</td>\n",
       "      <td>...</td>\n",
       "      <td>...</td>\n",
       "      <td>...</td>\n",
       "    </tr>\n",
       "    <tr>\n",
       "      <th>1367</th>\n",
       "      <td>0.40614</td>\n",
       "      <td>1.34920</td>\n",
       "      <td>-1.4501</td>\n",
       "      <td>-0.55949</td>\n",
       "      <td>1</td>\n",
       "    </tr>\n",
       "    <tr>\n",
       "      <th>1368</th>\n",
       "      <td>-1.38870</td>\n",
       "      <td>-4.87730</td>\n",
       "      <td>6.4774</td>\n",
       "      <td>0.34179</td>\n",
       "      <td>1</td>\n",
       "    </tr>\n",
       "    <tr>\n",
       "      <th>1369</th>\n",
       "      <td>-3.75030</td>\n",
       "      <td>-13.45860</td>\n",
       "      <td>17.5932</td>\n",
       "      <td>-2.77710</td>\n",
       "      <td>1</td>\n",
       "    </tr>\n",
       "    <tr>\n",
       "      <th>1370</th>\n",
       "      <td>-3.56370</td>\n",
       "      <td>-8.38270</td>\n",
       "      <td>12.3930</td>\n",
       "      <td>-1.28230</td>\n",
       "      <td>1</td>\n",
       "    </tr>\n",
       "    <tr>\n",
       "      <th>1371</th>\n",
       "      <td>-2.54190</td>\n",
       "      <td>-0.65804</td>\n",
       "      <td>2.6842</td>\n",
       "      <td>1.19520</td>\n",
       "      <td>1</td>\n",
       "    </tr>\n",
       "  </tbody>\n",
       "</table>\n",
       "<p>1372 rows × 5 columns</p>\n",
       "</div>"
      ],
      "text/plain": [
       "      variance  skewness  curtosis  entropy  class\n",
       "0      3.62160   8.66610   -2.8073 -0.44699      0\n",
       "1      4.54590   8.16740   -2.4586 -1.46210      0\n",
       "2      3.86600  -2.63830    1.9242  0.10645      0\n",
       "3      3.45660   9.52280   -4.0112 -3.59440      0\n",
       "4      0.32924  -4.45520    4.5718 -0.98880      0\n",
       "...        ...       ...       ...      ...    ...\n",
       "1367   0.40614   1.34920   -1.4501 -0.55949      1\n",
       "1368  -1.38870  -4.87730    6.4774  0.34179      1\n",
       "1369  -3.75030 -13.45860   17.5932 -2.77710      1\n",
       "1370  -3.56370  -8.38270   12.3930 -1.28230      1\n",
       "1371  -2.54190  -0.65804    2.6842  1.19520      1\n",
       "\n",
       "[1372 rows x 5 columns]"
      ]
     },
     "execution_count": 3,
     "metadata": {},
     "output_type": "execute_result"
    }
   ],
   "source": [
    "df"
   ]
  },
  {
   "cell_type": "markdown",
   "id": "4c1440e0-fe4c-4235-9bff-1aeeaf2e1fff",
   "metadata": {},
   "source": [
    "### 1"
   ]
  },
  {
   "cell_type": "code",
   "execution_count": 5,
   "id": "d57ae18d-96af-450b-97e5-32d9151b3edf",
   "metadata": {},
   "outputs": [],
   "source": [
    "df[\"color\"]=df[\"class\"].apply(lambda x:'green' if x==0 else 'red')"
   ]
  },
  {
   "cell_type": "code",
   "execution_count": 10,
   "id": "ef0912fc-c768-4c8a-a82b-3014264ebb0e",
   "metadata": {},
   "outputs": [
    {
     "data": {
      "text/html": [
       "<div>\n",
       "<style scoped>\n",
       "    .dataframe tbody tr th:only-of-type {\n",
       "        vertical-align: middle;\n",
       "    }\n",
       "\n",
       "    .dataframe tbody tr th {\n",
       "        vertical-align: top;\n",
       "    }\n",
       "\n",
       "    .dataframe thead th {\n",
       "        text-align: right;\n",
       "    }\n",
       "</style>\n",
       "<table border=\"1\" class=\"dataframe\">\n",
       "  <thead>\n",
       "    <tr style=\"text-align: right;\">\n",
       "      <th></th>\n",
       "      <th>variance</th>\n",
       "      <th>skewness</th>\n",
       "      <th>curtosis</th>\n",
       "      <th>entropy</th>\n",
       "      <th>class</th>\n",
       "      <th>color</th>\n",
       "    </tr>\n",
       "  </thead>\n",
       "  <tbody>\n",
       "    <tr>\n",
       "      <th>0</th>\n",
       "      <td>3.62160</td>\n",
       "      <td>8.66610</td>\n",
       "      <td>-2.8073</td>\n",
       "      <td>-0.44699</td>\n",
       "      <td>0</td>\n",
       "      <td>green</td>\n",
       "    </tr>\n",
       "    <tr>\n",
       "      <th>1</th>\n",
       "      <td>4.54590</td>\n",
       "      <td>8.16740</td>\n",
       "      <td>-2.4586</td>\n",
       "      <td>-1.46210</td>\n",
       "      <td>0</td>\n",
       "      <td>green</td>\n",
       "    </tr>\n",
       "    <tr>\n",
       "      <th>2</th>\n",
       "      <td>3.86600</td>\n",
       "      <td>-2.63830</td>\n",
       "      <td>1.9242</td>\n",
       "      <td>0.10645</td>\n",
       "      <td>0</td>\n",
       "      <td>green</td>\n",
       "    </tr>\n",
       "    <tr>\n",
       "      <th>3</th>\n",
       "      <td>3.45660</td>\n",
       "      <td>9.52280</td>\n",
       "      <td>-4.0112</td>\n",
       "      <td>-3.59440</td>\n",
       "      <td>0</td>\n",
       "      <td>green</td>\n",
       "    </tr>\n",
       "    <tr>\n",
       "      <th>4</th>\n",
       "      <td>0.32924</td>\n",
       "      <td>-4.45520</td>\n",
       "      <td>4.5718</td>\n",
       "      <td>-0.98880</td>\n",
       "      <td>0</td>\n",
       "      <td>green</td>\n",
       "    </tr>\n",
       "    <tr>\n",
       "      <th>...</th>\n",
       "      <td>...</td>\n",
       "      <td>...</td>\n",
       "      <td>...</td>\n",
       "      <td>...</td>\n",
       "      <td>...</td>\n",
       "      <td>...</td>\n",
       "    </tr>\n",
       "    <tr>\n",
       "      <th>1367</th>\n",
       "      <td>0.40614</td>\n",
       "      <td>1.34920</td>\n",
       "      <td>-1.4501</td>\n",
       "      <td>-0.55949</td>\n",
       "      <td>1</td>\n",
       "      <td>red</td>\n",
       "    </tr>\n",
       "    <tr>\n",
       "      <th>1368</th>\n",
       "      <td>-1.38870</td>\n",
       "      <td>-4.87730</td>\n",
       "      <td>6.4774</td>\n",
       "      <td>0.34179</td>\n",
       "      <td>1</td>\n",
       "      <td>red</td>\n",
       "    </tr>\n",
       "    <tr>\n",
       "      <th>1369</th>\n",
       "      <td>-3.75030</td>\n",
       "      <td>-13.45860</td>\n",
       "      <td>17.5932</td>\n",
       "      <td>-2.77710</td>\n",
       "      <td>1</td>\n",
       "      <td>red</td>\n",
       "    </tr>\n",
       "    <tr>\n",
       "      <th>1370</th>\n",
       "      <td>-3.56370</td>\n",
       "      <td>-8.38270</td>\n",
       "      <td>12.3930</td>\n",
       "      <td>-1.28230</td>\n",
       "      <td>1</td>\n",
       "      <td>red</td>\n",
       "    </tr>\n",
       "    <tr>\n",
       "      <th>1371</th>\n",
       "      <td>-2.54190</td>\n",
       "      <td>-0.65804</td>\n",
       "      <td>2.6842</td>\n",
       "      <td>1.19520</td>\n",
       "      <td>1</td>\n",
       "      <td>red</td>\n",
       "    </tr>\n",
       "  </tbody>\n",
       "</table>\n",
       "<p>1372 rows × 6 columns</p>\n",
       "</div>"
      ],
      "text/plain": [
       "      variance  skewness  curtosis  entropy  class  color\n",
       "0      3.62160   8.66610   -2.8073 -0.44699      0  green\n",
       "1      4.54590   8.16740   -2.4586 -1.46210      0  green\n",
       "2      3.86600  -2.63830    1.9242  0.10645      0  green\n",
       "3      3.45660   9.52280   -4.0112 -3.59440      0  green\n",
       "4      0.32924  -4.45520    4.5718 -0.98880      0  green\n",
       "...        ...       ...       ...      ...    ...    ...\n",
       "1367   0.40614   1.34920   -1.4501 -0.55949      1    red\n",
       "1368  -1.38870  -4.87730    6.4774  0.34179      1    red\n",
       "1369  -3.75030 -13.45860   17.5932 -2.77710      1    red\n",
       "1370  -3.56370  -8.38270   12.3930 -1.28230      1    red\n",
       "1371  -2.54190  -0.65804    2.6842  1.19520      1    red\n",
       "\n",
       "[1372 rows x 6 columns]"
      ]
     },
     "execution_count": 10,
     "metadata": {},
     "output_type": "execute_result"
    }
   ],
   "source": [
    "df"
   ]
  },
  {
   "cell_type": "markdown",
   "id": "4def7ef7-f8e8-4a86-9eae-f274bb584000",
   "metadata": {},
   "source": [
    "## 2"
   ]
  },
  {
   "cell_type": "code",
   "execution_count": 13,
   "id": "b165bf06-901c-437f-b11a-0a53b7ff0567",
   "metadata": {},
   "outputs": [
    {
     "name": "stdout",
     "output_type": "stream",
     "text": [
      "class  μ(f1)  σ(f1)  μ(f2)  σ(f2)  μ(f3)  σ(f3)  μ(f4)  σ(f4)\n",
      "    0   2.28   2.02   4.26   5.14   0.80   3.24  -1.15   2.13\n",
      "    1  -1.87   1.88  -0.99   5.40   2.15   5.26  -1.25   2.07\n",
      "  all   0.43   2.84   1.92   5.87   1.40   4.31  -1.19   2.10\n"
     ]
    }
   ],
   "source": [
    "import pandas as pd\n",
    "\n",
    "# Assuming the DataFrame is already loaded with the correct column names\n",
    "df.columns = ['variance', 'skewness', 'curtosis', 'entropy', 'class', 'color']\n",
    "\n",
    "# Exclude the 'color' column before aggregation\n",
    "numeric_df = df.drop(columns=['color'])\n",
    "\n",
    "# Calculate mean and standard deviation for each feature grouped by class\n",
    "stats_by_class = numeric_df.groupby('class').agg(['mean', 'std']).round(2)\n",
    "\n",
    "# Calculate overall mean and std for all rows\n",
    "overall_stats = numeric_df.agg(['mean', 'std']).round(2)\n",
    "\n",
    "# Reformat the DataFrame to match the given table structure\n",
    "formatted_table = pd.DataFrame({\n",
    "    'class': ['0', '1', 'all'],\n",
    "    'μ(f1)': [stats_by_class.loc[0, ('variance', 'mean')], stats_by_class.loc[1, ('variance', 'mean')], overall_stats.loc['mean', 'variance']],\n",
    "    'σ(f1)': [stats_by_class.loc[0, ('variance', 'std')], stats_by_class.loc[1, ('variance', 'std')], overall_stats.loc['std', 'variance']],\n",
    "    'μ(f2)': [stats_by_class.loc[0, ('skewness', 'mean')], stats_by_class.loc[1, ('skewness', 'mean')], overall_stats.loc['mean', 'skewness']],\n",
    "    'σ(f2)': [stats_by_class.loc[0, ('skewness', 'std')], stats_by_class.loc[1, ('skewness', 'std')], overall_stats.loc['std', 'skewness']],\n",
    "    'μ(f3)': [stats_by_class.loc[0, ('curtosis', 'mean')], stats_by_class.loc[1, ('curtosis', 'mean')], overall_stats.loc['mean', 'curtosis']],\n",
    "    'σ(f3)': [stats_by_class.loc[0, ('curtosis', 'std')], stats_by_class.loc[1, ('curtosis', 'std')], overall_stats.loc['std', 'curtosis']],\n",
    "    'μ(f4)': [stats_by_class.loc[0, ('entropy', 'mean')], stats_by_class.loc[1, ('entropy', 'mean')], overall_stats.loc['mean', 'entropy']],\n",
    "    'σ(f4)': [stats_by_class.loc[0, ('entropy', 'std')], stats_by_class.loc[1, ('entropy', 'std')], overall_stats.loc['std', 'entropy']],\n",
    "})\n",
    "\n",
    "# Display the formatted table\n",
    "print(formatted_table.to_string(index=False))"
   ]
  },
  {
   "cell_type": "markdown",
   "id": "f9aa67e0-ac6f-46c4-abb1-9a48776798a7",
   "metadata": {},
   "source": [
    "## 3"
   ]
  },
  {
   "cell_type": "markdown",
   "id": "c53bcc3a-724d-491c-9355-63922cf0555d",
   "metadata": {},
   "source": [
    "**Variance (f1):**\n",
    "\n",
    "The mean (μ(f1)) for class 0 (real banknotes) is positive (2.28), while for class 1 (fake banknotes) it is negative (-1.87). This indicates that real banknotes tend to have a higher variance in the wavelet transformed image compared to fake banknotes.\n",
    "\n",
    "The standard deviation (σ(f1)) is similar for both classes, indicating that the spread of variance values is not significantly different between real and fake banknotes.\n",
    "\n",
    "**Skewness (f2):**\n",
    "\n",
    "The mean skewness (μ(f2)) for class 0 is 4.26, much higher than that for class 1, which is -0.99. This suggests that real banknotes tend to exhibit more positive skewness compared to fake banknotes.\n",
    "\n",
    "The standard deviation (σ(f2)) is quite close for both classes, implying that the spread of skewness values is also not drastically different.\n",
    "\n",
    "**Curtosis (f3):**\n",
    "\n",
    "The mean curtosis (μ(f3)) for class 0 is 0.80, while for class 1 it is significantly higher at 2.15. This indicates that fake banknotes may exhibit higher peakedness in the distribution of wavelet transformed image values.\n",
    "\n",
    "The standard deviation (σ(f3)) is higher for class 1, suggesting more variability in curtosis among fake banknotes.\n",
    "\n",
    "**Entropy (f4):**\n",
    "\n",
    "Both classes have negative mean entropy values (μ(f4)), but class 1 has a slightly lower mean (-1.25) compared to class 0 (-1.15). This suggests that the entropy values for fake banknotes may be slightly more negative, indicating potentially more disorder in the image representation.\n",
    "\n",
    "The standard deviation (σ(f4)) is close for both classes, indicating similar variability in entropy values.\n",
    "\n",
    "**Overall Patterns:**\n",
    "\n",
    "Real banknotes generally have higher variance and skewness values, while fake banknotes exhibit higher curtosis.\n",
    "\n",
    "The differences in mean values across features suggest that variance, skewness, and curtosis might play significant roles in distinguishing between real and fake banknotes."
   ]
  },
  {
   "cell_type": "markdown",
   "id": "f902a681-d828-4ed5-a360-394317e2ce16",
   "metadata": {},
   "source": [
    "### 1"
   ]
  },
  {
   "cell_type": "code",
   "execution_count": 19,
   "id": "b04b4bc9-e164-44f8-9fb1-f680fac17996",
   "metadata": {},
   "outputs": [
    {
     "name": "stdout",
     "output_type": "stream",
     "text": [
      "Pairwise plots have been saved as 'good_bills.pdf' and 'fake_bills.pdf'.\n"
     ]
    }
   ],
   "source": [
    "# Split the dataset into 50% training and 50% testing\n",
    "X_train, X_test = train_test_split(df, test_size=0.5, random_state=42, stratify=df['class'])\n",
    "\n",
    "# Define custom color palettes\n",
    "good_palette = {'green': 'green'}\n",
    "fake_palette = {'red': 'red'}\n",
    "\n",
    "# Plot pairwise relationships for class 0 (good bills) with green color\n",
    "good_bills = X_train[X_train['class'] == 0]\n",
    "sns.pairplot(good_bills, hue='color', diag_kind='hist', palette=good_palette)\n",
    "plt.suptitle('Pairwise Relationships for Good Bills', y=1.02)\n",
    "plt.savefig('good_bills.pdf')\n",
    "plt.close()\n",
    "\n",
    "# Plot pairwise relationships for class 1 (fake bills) with red color\n",
    "fake_bills = X_train[X_train['class'] == 1]\n",
    "sns.pairplot(fake_bills, hue='color', diag_kind='hist', palette=fake_palette)\n",
    "plt.suptitle('Pairwise Relationships for Fake Bills', y=1.02)\n",
    "plt.savefig('fake_bills.pdf')\n",
    "plt.close()\n",
    "\n",
    "print(\"Pairwise plots have been saved as 'good_bills.pdf' and 'fake_bills.pdf'.\")\n"
   ]
  },
  {
   "cell_type": "markdown",
   "id": "66caf44c-9f83-433f-af7d-9a99451b52d3",
   "metadata": {},
   "source": [
    "### 2"
   ]
  },
  {
   "cell_type": "code",
   "execution_count": 41,
   "id": "934b8322-00b2-4419-bd28-c9996e125615",
   "metadata": {},
   "outputs": [],
   "source": [
    "def simple_classifier(f1, f2, f3, f4):\n",
    "    # Rule-based classifier\n",
    "    if (f1 > 0) and (f2 > 2) and (f3 < 3) and (f4 < 0):\n",
    "        x = 0 \n",
    "    else:\n",
    "        x = 1 \n",
    "    return x"
   ]
  },
  {
   "cell_type": "markdown",
   "id": "fce57cd6-c390-4ed5-a5e7-0753e6655554",
   "metadata": {},
   "source": [
    "### 3"
   ]
  },
  {
   "cell_type": "code",
   "execution_count": 43,
   "id": "16e3905a-2b4f-4a41-9e63-3b9e91b8827d",
   "metadata": {},
   "outputs": [],
   "source": [
    "# Apply the simple classifier to the test data\n",
    "X_test['predicted_class'] = X_test.apply(lambda row: simple_classifier(row['variance'], row['skewness'], row['curtosis'], row['entropy']), axis=1)"
   ]
  },
  {
   "cell_type": "markdown",
   "id": "5eaafbf1-cb0d-4453-bb1d-c7949fca89a7",
   "metadata": {},
   "source": [
    "### 4"
   ]
  },
  {
   "cell_type": "code",
   "execution_count": 45,
   "id": "1209b32c-46b1-44ef-ac45-8d5ee93a8340",
   "metadata": {},
   "outputs": [
    {
     "name": "stdout",
     "output_type": "stream",
     "text": [
      "TP: 278, FP: 230, TN: 151, FN: 27\n",
      "TPR (Recall): 0.91\n",
      "TNR (Specificity): 0.40\n"
     ]
    }
   ],
   "source": [
    "# True labels and predicted labels\n",
    "y_true = X_test['class']\n",
    "y_pred = X_test['predicted_class']\n",
    "\n",
    "# Calculate TP, FP, TN, FN\n",
    "TP = ((y_pred == 1) & (y_true == 1)).sum()\n",
    "FP = ((y_pred == 1) & (y_true == 0)).sum()\n",
    "TN = ((y_pred == 0) & (y_true == 0)).sum()\n",
    "FN = ((y_pred == 0) & (y_true == 1)).sum()\n",
    "\n",
    "# Calculate TPR and TNR\n",
    "TPR = TP / (TP + FN) if (TP + FN) != 0 else 0  # True Positive Rate (Recall)\n",
    "TNR = TN / (TN + FP) if (TN + FP) != 0 else 0  # True Negative Rate (Specificity)\n",
    "\n",
    "# Print the results\n",
    "print(f\"TP: {TP}, FP: {FP}, TN: {TN}, FN: {FN}\")\n",
    "print(f\"TPR (Recall): {TPR:.2f}\")\n",
    "print(f\"TNR (Specificity): {TNR:.2f}\")\n"
   ]
  },
  {
   "cell_type": "markdown",
   "id": "e252471a-ed8a-445e-a119-a8440b32b37f",
   "metadata": {},
   "source": [
    "### 5"
   ]
  },
  {
   "cell_type": "code",
   "execution_count": 48,
   "id": "5ab20eec-6572-4025-9b67-14c104fa14c8",
   "metadata": {},
   "outputs": [
    {
     "name": "stdout",
     "output_type": "stream",
     "text": [
      " TP  FP  TN  FN  accuracy  TPR  TNR\n",
      "278 230 151  27      0.63 0.91  0.4\n"
     ]
    }
   ],
   "source": [
    "# Calculate accuracy\n",
    "accuracy = (TP + TN) / (TP + FP + TN + FN) if (TP + FP + TN + FN) != 0 else 0\n",
    "\n",
    "# Create a DataFrame to summarize the results\n",
    "results_summary = pd.DataFrame({\n",
    "    'TP': [TP],\n",
    "    'FP': [FP],\n",
    "    'TN': [TN],\n",
    "    'FN': [FN],\n",
    "    'accuracy': [round(accuracy, 2)],\n",
    "    'TPR': [round(TPR, 2)],\n",
    "    'TNR': [round(TNR, 2)]\n",
    "})\n",
    "\n",
    "# Display the results\n",
    "print(results_summary.to_string(index=False))\n"
   ]
  },
  {
   "cell_type": "markdown",
   "id": "24b23868-80db-491b-8167-bdccd72c8505",
   "metadata": {},
   "source": [
    "### 6"
   ]
  },
  {
   "cell_type": "markdown",
   "id": "69f8089a-5d90-4829-8b52-88ffc4f0e1a2",
   "metadata": {},
   "source": [
    "The simple classifier achieves an overall accuracy of 0.63, which is better than 50% (random guessing). This indicates that the classifier is able to identify bills with an accuracy above random chance.\n",
    "\n",
    "However, when examining the True Positive Rate (TPR) and True Negative Rate (TNR), we see that the TPR is much higher (0.91) compared to the TNR (0.40). This suggests that the classifier performs better at identifying \"fake\" bills (class 1) than \"real\" bills (class 0). In other words, it has a higher accuracy in detecting fake bills, but it struggles with correctly identifying real bills."
   ]
  },
  {
   "cell_type": "code",
   "execution_count": 53,
   "id": "c23e9e19-6647-403f-902d-d503081ff616",
   "metadata": {},
   "outputs": [
    {
     "name": "stdout",
     "output_type": "stream",
     "text": [
      "k = 3: TP = 300, FP = 0, TN = 386, FN = 0, accuracy = 1.00, TPR = 1.00, TNR = 1.00\n",
      "k = 5: TP = 300, FP = 0, TN = 386, FN = 0, accuracy = 1.00, TPR = 1.00, TNR = 1.00\n",
      "k = 7: TP = 300, FP = 0, TN = 386, FN = 0, accuracy = 1.00, TPR = 1.00, TNR = 1.00\n",
      "k = 9: TP = 300, FP = 3, TN = 383, FN = 0, accuracy = 1.00, TPR = 1.00, TNR = 0.99\n",
      "k = 11: TP = 300, FP = 6, TN = 380, FN = 0, accuracy = 0.99, TPR = 1.00, TNR = 0.98\n"
     ]
    },
    {
     "data": {
      "image/png": "[encoded data removed]",
      "text/plain": [
       "<Figure size 640x480 with 1 Axes>"
      ]
     },
     "metadata": {},
     "output_type": "display_data"
    },
    {
     "name": "stdout",
     "output_type": "stream",
     "text": [
      "The optimal value of k* is 3\n"
     ]
    }
   ],
   "source": [
    "from sklearn.model_selection import train_test_split\n",
    "from sklearn.neighbors import KNeighborsClassifier\n",
    "from sklearn.metrics import confusion_matrix, accuracy_score\n",
    "import matplotlib.pyplot as plt\n",
    "\n",
    "# Split the dataset into features and target variable\n",
    "X = df[['variance', 'skewness', 'curtosis', 'entropy']]\n",
    "y = df['class']\n",
    "\n",
    "# List to store accuracies for different k values\n",
    "accuracies = []\n",
    "\n",
    "# Iterate over different k values\n",
    "for k in [3, 5, 7, 9, 11]:\n",
    "    # Split into 50/50 training and testing\n",
    "    X_train, X_test, y_train, y_test = train_test_split(X, y, test_size=0.5, random_state=42)\n",
    "    \n",
    "    # Train k-NN classifier\n",
    "    knn = KNeighborsClassifier(n_neighbors=k)\n",
    "    knn.fit(X_train, y_train)\n",
    "    \n",
    "    # Predict on the test set\n",
    "    y_pred = knn.predict(X_test)\n",
    "    \n",
    "    # Calculate accuracy\n",
    "    accuracy = accuracy_score(y_test, y_pred)\n",
    "    accuracies.append(accuracy)\n",
    "    \n",
    "    # Calculate confusion matrix values\n",
    "    TN, FP, FN, TP = confusion_matrix(y_test, y_pred).ravel()\n",
    "    \n",
    "    # Calculate TPR and TNR\n",
    "    TPR = TP / (TP + FN) if (TP + FN) != 0 else 0\n",
    "    TNR = TN / (TN + FP) if (TN + FP) != 0 else 0\n",
    "    \n",
    "    # Print results for current k\n",
    "    print(f\"k = {k}: TP = {TP}, FP = {FP}, TN = {TN}, FN = {FN}, accuracy = {accuracy:.2f}, TPR = {TPR:.2f}, TNR = {TNR:.2f}\")\n",
    "\n",
    "# Plot accuracy vs. k\n",
    "plt.plot([3, 5, 7, 9, 11], accuracies, marker='o')\n",
    "plt.title('Accuracy vs. k')\n",
    "plt.xlabel('k')\n",
    "plt.ylabel('Accuracy')\n",
    "plt.grid()\n",
    "plt.show()\n",
    "\n",
    "# Find optimal k (k*)\n",
    "k_star = [3, 5, 7, 9, 11][accuracies.index(max(accuracies))]\n",
    "print(f\"The optimal value of k* is {k_star}\")\n"
   ]
  },
  {
   "cell_type": "code",
   "execution_count": 72,
   "id": "f7f3c89c-a9c5-4f58-b19e-b19eeae8b692",
   "metadata": {},
   "outputs": [
    {
     "name": "stdout",
     "output_type": "stream",
     "text": [
      " TP  FP  TN  FN  accuracy  TPR  TNR\n",
      "300   0 386   0       1.0  1.0  1.0\n"
     ]
    }
   ],
   "source": [
    "from sklearn.metrics import confusion_matrix, accuracy_score\n",
    "\n",
    "# Train k-NN classifier with the optimal k* value\n",
    "k_optimal = 3\n",
    "knn = KNeighborsClassifier(n_neighbors=k_optimal)\n",
    "knn.fit(X_train, y_train)\n",
    "\n",
    "# Predict the class labels for the test set\n",
    "y_pred_knn = knn.predict(X_test)\n",
    "\n",
    "# Calculate TP, FP, TN, FN using confusion matrix\n",
    "tn, fp, fn, tp = confusion_matrix(y_test, y_pred_knn).ravel()\n",
    "\n",
    "# Calculate accuracy\n",
    "accuracy_knn = accuracy_score(y_test, y_pred_knn)\n",
    "\n",
    "# Calculate TPR and TNR\n",
    "tpr_knn = tp / (tp + fn) if (tp + fn) != 0 else 0\n",
    "tnr_knn = tn / (tn + fp) if (tn + fp) != 0 else 0\n",
    "\n",
    "# Summarize the findings in a table\n",
    "summary_table = pd.DataFrame({\n",
    "    'TP': [tp],\n",
    "    'FP': [fp],\n",
    "    'TN': [tn],\n",
    "    'FN': [fn],\n",
    "    'accuracy': [round(accuracy_knn, 2)],\n",
    "    'TPR': [round(tpr_knn, 2)],\n",
    "    'TNR': [round(tnr_knn, 2)]\n",
    "})\n",
    "\n",
    "# Display the table\n",
    "print(summary_table.to_string(index=False))\n"
   ]
  },
  {
   "cell_type": "markdown",
   "id": "c1815fa2-1e4f-47d0-bdff-902d493887f8",
   "metadata": {},
   "source": [
    "Yes, the k-NN classifier performs significantly better than the simple classifier in all measures:\n",
    "\n",
    "Accuracy: The k-NN classifier achieves an accuracy of 1.00 (100%) for k=3,5,7, whereas the simple classifier's accuracy was only 0.63 (63%).\n",
    "\n",
    "TPR (Recall): 1.00 (100%) for all values of k, since all positive cases are correctly identified.\n",
    "\n",
    "TNR (Specificity): Close to 1.00 (100%) for values of 𝑘=3,5,7, indicating that almost all negative cases are also correctly identified."
   ]
  },
  {
   "cell_type": "code",
   "execution_count": 67,
   "id": "c2008369-d83d-42e0-b724-75764f66eb0d",
   "metadata": {},
   "outputs": [
    {
     "name": "stdout",
     "output_type": "stream",
     "text": [
      "Simple Classifier Prediction: fake\n"
     ]
    }
   ],
   "source": [
    "simple_class_label = simple_classifier(6, 7, 8, 2)\n",
    "print(f\"Simple Classifier Prediction: {simple_class_label}\")\n"
   ]
  },
  {
   "cell_type": "code",
   "execution_count": 69,
   "id": "75f4bdac-cc38-4c42-a099-802641e0dde2",
   "metadata": {},
   "outputs": [
    {
     "name": "stdout",
     "output_type": "stream",
     "text": [
      "k-NN Classifier Prediction: good\n"
     ]
    }
   ],
   "source": [
    "knn = KNeighborsClassifier(n_neighbors=3)\n",
    "knn.fit(X_train, y_train)\n",
    "\n",
    "# Create a DataFrame for the new data point with the correct feature names\n",
    "new_data = pd.DataFrame([[6, 7, 8, 2]], columns=['variance', 'skewness', 'curtosis', 'entropy'])\n",
    "\n",
    "# Predict the class label\n",
    "knn_class_label = knn.predict(new_data)\n",
    "print(f\"k-NN Classifier Prediction: {'good' if knn_class_label[0] == 0 else 'fake'}\")"
   ]
  },
  {
   "cell_type": "code",
   "execution_count": 79,
   "id": "88f19128-3d71-4e05-b25f-dbc1ee54f2c8",
   "metadata": {},
   "outputs": [
    {
     "name": "stdout",
     "output_type": "stream",
     "text": [
      "Accuracy with variance dropped: 0.96\n",
      "Accuracy with skewness dropped: 0.98\n",
      "Accuracy with curtosis dropped: 0.98\n",
      "Accuracy with entropy dropped: 0.99\n",
      "Accuracy with all features: 1.0\n"
     ]
    }
   ],
   "source": [
    "from sklearn.model_selection import train_test_split\n",
    "\n",
    "# Function to train and evaluate k-NN accuracy with a given feature set\n",
    "def evaluate_knn_accuracy(features_to_drop, k_optimal):\n",
    "    # Drop the specified features from X_train and X_test\n",
    "    X_train_truncated = X_train.drop(columns=features_to_drop)\n",
    "    X_test_truncated = X_test.drop(columns=features_to_drop)\n",
    "    \n",
    "    # Train the k-NN classifier on the truncated feature set\n",
    "    knn = KNeighborsClassifier(n_neighbors=k_optimal)\n",
    "    knn.fit(X_train_truncated, y_train)\n",
    "    \n",
    "    # Predict the labels for the truncated test set\n",
    "    y_pred_truncated = knn.predict(X_test_truncated)\n",
    "    \n",
    "    # Calculate accuracy\n",
    "    accuracy_truncated = accuracy_score(y_test, y_pred_truncated)\n",
    "    return round(accuracy_truncated, 2)\n",
    "\n",
    "# List of feature sets to drop one at a time\n",
    "features = ['variance', 'skewness', 'curtosis', 'entropy']\n",
    "accuracies = {}\n",
    "\n",
    "# Evaluate k-NN accuracy by dropping each feature one by one\n",
    "for feature in features:\n",
    "    accuracy = evaluate_knn_accuracy([feature], k_optimal)\n",
    "    accuracies[feature] = accuracy\n",
    "    print(f\"Accuracy with {feature} dropped: {accuracy}\")\n",
    "\n",
    "# Accuracy with all features\n",
    "accuracy_all_features = evaluate_knn_accuracy([], k_optimal)\n",
    "print(f\"Accuracy with all features: {accuracy_all_features}\")"
   ]
  },
  {
   "cell_type": "code",
   "execution_count": 83,
   "id": "187ea693-58c1-494d-9402-c230654b2284",
   "metadata": {},
   "outputs": [
    {
     "name": "stdout",
     "output_type": "stream",
     "text": [
      "\n",
      "Did accuracy increase when a feature was removed?: False\n"
     ]
    }
   ],
   "source": [
    "# Analysis\n",
    "accuracy_increase = any(accuracy > accuracy_all_features for accuracy in accuracies.values())\n",
    "most_impact = min(accuracies, key=accuracies.get)\n",
    "least_impact = max(accuracies, key=accuracies.get)\n",
    "\n",
    "print(\"\\nDid accuracy increase when a feature was removed?:\", accuracy_increase)"
   ]
  },
  {
   "cell_type": "code",
   "execution_count": 92,
   "id": "1939a9f9-bdcc-414d-b5fd-def4c49c3f2c",
   "metadata": {},
   "outputs": [
    {
     "name": "stdout",
     "output_type": "stream",
     "text": [
      "Feature contributing the most to loss of accuracy when removed: variance\n"
     ]
    }
   ],
   "source": [
    "print(\"Feature contributing the most to loss of accuracy when removed:\", most_impact)"
   ]
  },
  {
   "cell_type": "code",
   "execution_count": 96,
   "id": "eb1cd079-ea9a-45d2-bb82-29d53947d794",
   "metadata": {},
   "outputs": [
    {
     "name": "stdout",
     "output_type": "stream",
     "text": [
      "Feature contributing the least to loss of accuracy when removed: entropy\n"
     ]
    }
   ],
   "source": [
    "print(\"Feature contributing the least to loss of accuracy when removed:\", least_impact)"
   ]
  },
  {
   "cell_type": "code",
   "execution_count": 116,
   "id": "732163ee-ae98-4a88-99c5-66f6c426d52c",
   "metadata": {},
   "outputs": [
    {
     "name": "stdout",
     "output_type": "stream",
     "text": [
      " TP  FP  TN  FN  accuracy  TPR  TNR\n",
      "298   4 382   2      0.99 0.99 0.99\n"
     ]
    }
   ],
   "source": [
    "from sklearn.linear_model import LogisticRegression\n",
    "\n",
    "# Assuming the dataset is already loaded into a DataFrame named df with features and target\n",
    "# Separate features and target\n",
    "X = df[['variance', 'skewness', 'curtosis', 'entropy']]\n",
    "y = df['class']\n",
    "\n",
    "# Step 1: Train logistic regression model\n",
    "# Split the data into training and testing sets\n",
    "X_train, X_test, y_train, y_test = train_test_split(X, y, test_size=0.5, random_state=42)\n",
    "\n",
    "# Train the logistic regression classifier\n",
    "log_reg = LogisticRegression()\n",
    "log_reg.fit(X_train, y_train)\n",
    "\n",
    "# Predict the class labels for the test set\n",
    "y_pred_log_reg = log_reg.predict(X_test)\n",
    "\n",
    "# Step 2: Calculate performance metrics\n",
    "# Confusion matrix components\n",
    "TP = ((y_pred_log_reg == 1) & (y_test == 1)).sum()\n",
    "FP = ((y_pred_log_reg == 1) & (y_test == 0)).sum()\n",
    "TN = ((y_pred_log_reg == 0) & (y_test == 0)).sum()\n",
    "FN = ((y_pred_log_reg == 0) & (y_test == 1)).sum()\n",
    "\n",
    "# Accuracy, TPR (Recall), and TNR (Specificity)\n",
    "accuracy_log_reg = accuracy_score(y_test, y_pred_log_reg)\n",
    "TPR_log_reg = TP / (TP + FN) if (TP + FN) != 0 else 0\n",
    "TNR_log_reg = TN / (TN + FP) if (TN + FP) != 0 else 0\n",
    "\n",
    "# Step 3: Create the DataFrame to display results\n",
    "results_df = pd.DataFrame({\n",
    "    'TP': [TP],\n",
    "    'FP': [FP],\n",
    "    'TN': [TN],\n",
    "    'FN': [FN],\n",
    "    'accuracy': [round(accuracy_log_reg, 2)],\n",
    "    'TPR': [round(TPR_log_reg, 2)],\n",
    "    'TNR': [round(TNR_log_reg, 2)]\n",
    "})\n",
    "\n",
    "# Display the DataFrame in the desired format\n",
    "print(results_df.to_string(index=False))\n",
    "\n"
   ]
  },
  {
   "cell_type": "markdown",
   "id": "aa174e42-71f1-4b98-9cc3-2b0befa01995",
   "metadata": {},
   "source": [
    "The logistic regression classifier is significantly better than the simple classifier in all metrics (TP, FP, TN, FN, accuracy, TPR, and TNR). The logistic regression model achieves a higher accuracy and performs better at distinguishing both true positives and true negatives."
   ]
  },
  {
   "cell_type": "markdown",
   "id": "7f7088c7-79cc-4533-9a91-2d2ecdf0f590",
   "metadata": {},
   "source": [
    "The k-NN classifier with 𝑘=3 performs slightly better than logistic regression. It achieves perfect accuracy (1.00) with no false positives or false negatives, while logistic regression has slightly lower metrics due to a few false positives (FP = 4) and false negatives (FN = 2)."
   ]
  },
  {
   "cell_type": "code",
   "execution_count": 118,
   "id": "b2c1370c-5926-4565-8f97-710faffc5665",
   "metadata": {},
   "outputs": [
    {
     "name": "stdout",
     "output_type": "stream",
     "text": [
      "The class label predicted by logistic regression for the bill with features [6, 7, 8, 2] is: 0\n"
     ]
    }
   ],
   "source": [
    "# Predict for a bill containing the last 4 digits of your BUID (6782)\n",
    "bill_features = pd.DataFrame([[6, 7, 8, 2]], columns=['variance', 'skewness', 'curtosis', 'entropy'])  # Use a DataFrame with feature names\n",
    "predicted_label_log_reg = log_reg.predict(bill_features)[0]\n",
    "\n",
    "# Output the result\n",
    "print(f\"The class label predicted by logistic regression for the bill with features [6, 7, 8, 2] is: {predicted_label_log_reg}\")"
   ]
  },
  {
   "cell_type": "code",
   "execution_count": 127,
   "id": "5820197c-1ddd-45c2-9c8c-4624c4d7c64b",
   "metadata": {},
   "outputs": [
    {
     "name": "stdout",
     "output_type": "stream",
     "text": [
      "Accuracy with all features: 0.99\n",
      "Accuracy without f1 (variance): 0.81\n",
      "Accuracy without f2 (skewness): 0.91\n",
      "Accuracy without f3 (curtosis): 0.87\n",
      "Accuracy without f4 (entropy): 0.99\n"
     ]
    }
   ],
   "source": [
    "import pandas as pd\n",
    "from sklearn.linear_model import LogisticRegression\n",
    "from sklearn.model_selection import train_test_split\n",
    "from sklearn.metrics import accuracy_score\n",
    "\n",
    "# Assuming the dataset is already loaded into a DataFrame named df with features and target\n",
    "# Separate features and target\n",
    "X = df[['variance', 'skewness', 'curtosis', 'entropy']]\n",
    "y = df['class']\n",
    "\n",
    "# Function to compute accuracy after removing one feature\n",
    "def evaluate_feature_removal(feature_to_remove):\n",
    "    if feature_to_remove:  # If a feature is specified to be removed\n",
    "        # Drop the specified feature\n",
    "        X_reduced = X.drop(columns=[feature_to_remove])\n",
    "    else:\n",
    "        # Use all features if no feature is specified to be removed\n",
    "        X_reduced = X\n",
    "    \n",
    "    # Split the data into training and testing sets\n",
    "    X_train, X_test, y_train, y_test = train_test_split(X_reduced, y, test_size=0.5, random_state=42)\n",
    "    \n",
    "    # Train the logistic regression classifier\n",
    "    log_reg = LogisticRegression()\n",
    "    log_reg.fit(X_train, y_train)\n",
    "    \n",
    "    # Predict the class labels for the test set\n",
    "    y_pred = log_reg.predict(X_test)\n",
    "    \n",
    "    # Compute accuracy\n",
    "    accuracy = accuracy_score(y_test, y_pred)\n",
    "    return accuracy\n",
    "\n",
    "# Evaluate accuracy for all scenarios\n",
    "accuracy_all_features = evaluate_feature_removal(feature_to_remove=None) # Evaluate with all features\n",
    "accuracy_f1_missing = evaluate_feature_removal('variance')\n",
    "accuracy_f2_missing = evaluate_feature_removal('skewness')\n",
    "accuracy_f3_missing = evaluate_feature_removal('curtosis')\n",
    "accuracy_f4_missing = evaluate_feature_removal('entropy')\n",
    "\n",
    "# Display the results\n",
    "print(f\"Accuracy with all features: {accuracy_all_features:.2f}\")\n",
    "print(f\"Accuracy without f1 (variance): {accuracy_f1_missing:.2f}\")\n",
    "print(f\"Accuracy without f2 (skewness): {accuracy_f2_missing:.2f}\")\n",
    "print(f\"Accuracy without f3 (curtosis): {accuracy_f3_missing:.2f}\")\n",
    "print(f\"Accuracy without f4 (entropy): {accuracy_f4_missing:.2f}\")"
   ]
  },
  {
   "cell_type": "markdown",
   "id": "f1841338-8db6-48bf-a904-fc591bdb6b1f",
   "metadata": {},
   "source": [
    "No, the accuracy did not increase in any of the 4 cases when a feature was removed compared to when all 4 features were used. The highest accuracy achieved without any feature was still 0.99, which matched the accuracy with all features present. In cases where features were removed (especially f1, f2, and f3), the accuracy decreased."
   ]
  },
  {
   "cell_type": "code",
   "execution_count": 131,
   "id": "b7d342ce-86e5-4451-bf0f-8c9f255328b1",
   "metadata": {},
   "outputs": [
    {
     "name": "stdout",
     "output_type": "stream",
     "text": [
      "Feature whose removal caused the most accuracy drop: f1 (variance)\n",
      "Feature whose removal caused the least accuracy drop: f4 (entropy)\n"
     ]
    }
   ],
   "source": [
    "# Determine the feature that contributed the most and least to accuracy loss\n",
    "accuracy_drop = {\n",
    "    'f1 (variance)': accuracy_all_features - accuracy_f1_missing,\n",
    "    'f2 (skewness)': accuracy_all_features - accuracy_f2_missing,\n",
    "    'f3 (curtosis)': accuracy_all_features - accuracy_f3_missing,\n",
    "    'f4 (entropy)': accuracy_all_features - accuracy_f4_missing\n",
    "}\n",
    "\n",
    "most_impactful_feature = max(accuracy_drop, key=accuracy_drop.get)\n",
    "least_impactful_feature = min(accuracy_drop, key=accuracy_drop.get)\n",
    "\n",
    "print(f\"Feature whose removal caused the most accuracy drop: {most_impactful_feature}\")\n",
    "print(f\"Feature whose removal caused the least accuracy drop: {least_impactful_feature}\")"
   ]
  },
  {
   "cell_type": "markdown",
   "id": "d02fdead-7ded-46b1-9c34-badc95686166",
   "metadata": {},
   "source": [
    "The relative significance of features obtained from logistic regression aligns with the findings from the k-NN classifier. Both approaches suggest that variance is the most important feature, while entropy is the least important."
   ]
  }
 ],
 "metadata": {
  "kernelspec": {
   "display_name": "Python 3 (ipykernel)",
   "language": "python",
   "name": "python3"
  },
  "language_info": {
   "codemirror_mode": {
    "name": "ipython",
    "version": 3
   },
   "file_extension": ".py",
   "mimetype": "text/x-python",
   "name": "python",
   "nbconvert_exporter": "python",
   "pygments_lexer": "ipython3",
   "version": "3.12.4"
  }
 },
 "nbformat": 4,
 "nbformat_minor": 5
}
